{
 "cells": [
  {
   "cell_type": "markdown",
   "id": "920005cf",
   "metadata": {},
   "source": [
    "# Ask PubMed and PubMed Central\n",
    "\n",
    "Clemence SEBE"
   ]
  },
  {
   "cell_type": "code",
   "execution_count": null,
   "id": "d363fbe0",
   "metadata": {},
   "outputs": [],
   "source": [
    "import xml.etree.ElementTree as et \n",
    "import entrezpy.conduit\n",
    "import datetime\n",
    "import time\n",
    "import sys\n",
    "import os\n",
    "\n",
    "normal = sys.stdout"
   ]
  },
  {
   "cell_type": "code",
   "execution_count": null,
   "id": "b58d6945",
   "metadata": {},
   "outputs": [],
   "source": [
    "boolean = True "
   ]
  },
  {
   "cell_type": "code",
   "execution_count": null,
   "id": "b58e082f",
   "metadata": {},
   "outputs": [],
   "source": [
    "c = entrezpy.conduit.Conduit('email')"
   ]
  },
  {
   "cell_type": "code",
   "execution_count": null,
   "id": "7126427b",
   "metadata": {},
   "outputs": [],
   "source": [
    "today = datetime.date.today()\n",
    "day = today.day\n",
    "month = today.month\n",
    "year = today.year\n",
    "date = str(day) + '_' + str(month) + '_' + str(year)\n",
    "print(date)\n",
    "os.makedirs(date, exist_ok=True)\n",
    "os.chdir(date)"
   ]
  },
  {
   "cell_type": "markdown",
   "id": "f02c627d",
   "metadata": {},
   "source": [
    "# Recherche globale : "
   ]
  },
  {
   "cell_type": "markdown",
   "id": "0be2fe49",
   "metadata": {},
   "source": [
    "## <span style='color:red'> Query 1 : </span> Pubmed : \n",
    "\n",
    "$\\rightarrow$ nextflow and snakemake"
   ]
  },
  {
   "cell_type": "markdown",
   "id": "d242aeec",
   "metadata": {},
   "source": [
    "### Requete"
   ]
  },
  {
   "cell_type": "code",
   "execution_count": null,
   "id": "db4b1fde",
   "metadata": {},
   "outputs": [],
   "source": [
    "name1 = 'q1_' + date + \".xml\"\n",
    "if boolean:\n",
    "    res = open(name1,'w')\n",
    "    sys.stdout = res \n",
    "    extract_article = c.new_pipeline()\n",
    "    sid = extract_article.add_search({'db' : 'pubmed',\n",
    "                              'term' : 'nextflow or snakemake',\n",
    "                              'rettype' : 'uilist'})\n",
    "\n",
    "    fid = extract_article.add_fetch({'retmode' : 'xml','rettype' : 'abstract' }, dependency=sid)\n",
    "    pipeline = c.run(extract_article)\n",
    "\n",
    "    sys.stdout = normal\n",
    "    res.close()\n",
    "    time.sleep(3)"
   ]
  },
  {
   "cell_type": "markdown",
   "id": "cf017d09",
   "metadata": {},
   "source": [
    "### Analyse"
   ]
  },
  {
   "cell_type": "code",
   "execution_count": null,
   "id": "42eded61",
   "metadata": {},
   "outputs": [],
   "source": [
    "print(os.getcwd())\n",
    "file1 = et.parse(name1)\n",
    "pubmedXml = file1.getroot()\n",
    "articles = list(pubmedXml)"
   ]
  },
  {
   "cell_type": "code",
   "execution_count": null,
   "id": "a80b2405",
   "metadata": {
    "scrolled": true
   },
   "outputs": [],
   "source": [
    "print(\"Nombre de résultats avec la première requete : {}\".format(len(articles)))"
   ]
  },
  {
   "cell_type": "markdown",
   "id": "5ad6ea5b",
   "metadata": {},
   "source": [
    "Extraction of the title, abstract and keywords for each article found :"
   ]
  },
  {
   "cell_type": "code",
   "execution_count": null,
   "id": "127cb7df",
   "metadata": {},
   "outputs": [],
   "source": [
    "def extractText(part, sup=False):\n",
    "    txt = ''\n",
    "    if part.tag != 'fig' and part.tag != 'table' and part.tag != 'table-wrap':  \n",
    "        \n",
    "        if part.tag == 'list-item':\n",
    "            for subPart in part:\n",
    "                if subPart.tag != 'label':\n",
    "                    txt += '** ' + extractText(subPart) + '\\n'\n",
    "        else:\n",
    "            if sup:\n",
    "                txt += ' ['\n",
    "                \n",
    "            if part.text != None:\n",
    "                if len(part) == 0:\n",
    "                    txt += part.text\n",
    "                else: \n",
    "                    txt += (part.text).strip() + \" \"\n",
    "\n",
    "            for subPart in part:\n",
    "                if subPart.tag =='xref':\n",
    "                    txt = txt.strip() \n",
    "                if subPart.tag == 'ext-link':\n",
    "                    txt = txt.strip() + \" \"\n",
    "                    \n",
    "                if subPart.tag == 'sup':\n",
    "                    txt = txt.strip()\n",
    "                    txt += extractText(subPart, True)\n",
    "                else:\n",
    "                    txt += extractText(subPart)\n",
    "\n",
    "            if sup:\n",
    "                txt += ']'\n",
    "            if part.tail != None:\n",
    "                if len(part.tail.strip()) != 0:\n",
    "                    txt += part.tail\n",
    "    \n",
    "    return txt"
   ]
  },
  {
   "cell_type": "code",
   "execution_count": null,
   "id": "8ba6110d",
   "metadata": {},
   "outputs": [],
   "source": [
    "idPubmed = []\n",
    "abPubmedAll = {}\n",
    "for article in articles:\n",
    "    txt = ''\n",
    "    medlineCitation = article.find('MedlineCitation')\n",
    "    pmid = medlineCitation.find('PMID')\n",
    "    idPubmed.append(pmid.text)\n",
    "    \n",
    "    art = medlineCitation.find('Article')\n",
    "    title = art.find('ArticleTitle')\n",
    "    abstract = art.find('Abstract')\n",
    "        \n",
    "    titre = extractText(title)\n",
    "    txt += titre + '\\n\\n'\n",
    "    try:\n",
    "        ab = extractText(abstract)\n",
    "        txt += ab + '\\n\\n'\n",
    "    except:\n",
    "        None\n",
    "        \n",
    "    try:\n",
    "        keyword = medlineCitation.find('KeywordList')\n",
    "        for k in keyword:\n",
    "            txt += extractText(k) + ' '\n",
    "    except:\n",
    "        None\n",
    "    abPubmedAll.update({pmid.text:txt})"
   ]
  },
  {
   "cell_type": "code",
   "execution_count": null,
   "id": "555dfd0b",
   "metadata": {},
   "outputs": [],
   "source": []
  },
  {
   "cell_type": "markdown",
   "id": "8949486c",
   "metadata": {},
   "source": [
    "## <span style='color:red'> Query 2 : </span> Pubmed : \n",
    "\n",
    "$\\rightarrow$ ((nextflow[Title/Abstract]) OR (snakemake[Title/Abstract])) AND (github[Title/Abstract])"
   ]
  },
  {
   "cell_type": "code",
   "execution_count": null,
   "id": "2a8e73d9",
   "metadata": {},
   "outputs": [],
   "source": [
    "name2 = 'q2_' + date + \".xml\"\n",
    "if boolean:\n",
    "    res = open(name2,'w')\n",
    "    sys.stdout = res \n",
    "    extract_article = c.new_pipeline()\n",
    "    sid = extract_article.add_search({'db' : 'pubmed',\n",
    "                              'term' : '((nextflow[Title/Abstract]) OR (snakemake[Title/Abstract])) AND (github[Title/Abstract])',\n",
    "                              'rettype' : 'uilist'})\n",
    "\n",
    "    fid = extract_article.add_fetch({'retmode' : 'xml','rettype' : 'abstract' }, dependency=sid)\n",
    "    pipeline = c.run(extract_article)\n",
    "\n",
    "    sys.stdout = normal\n",
    "    res.close()\n",
    "    time.sleep(3)"
   ]
  },
  {
   "cell_type": "code",
   "execution_count": null,
   "id": "9d0de06b",
   "metadata": {},
   "outputs": [],
   "source": [
    "file2 = et.parse(name2)\n",
    "pubmedXml = file2.getroot()\n",
    "articles = list(pubmedXml)"
   ]
  },
  {
   "cell_type": "code",
   "execution_count": null,
   "id": "3001a584",
   "metadata": {},
   "outputs": [],
   "source": [
    "print(\"Number of results with second query : {}\".format(len(articles)))"
   ]
  },
  {
   "cell_type": "code",
   "execution_count": null,
   "id": "33cd1f56",
   "metadata": {},
   "outputs": [],
   "source": [
    "idPubmed2 = []\n",
    "for article in articles:\n",
    "    medlineCitation = article.find('MedlineCitation')\n",
    "    pmid = medlineCitation.find('PMID')\n",
    "    idPubmed2.append(pmid.text)"
   ]
  },
  {
   "cell_type": "code",
   "execution_count": null,
   "id": "e44b1a93",
   "metadata": {},
   "outputs": [],
   "source": [
    "for idx in idPubmed2:\n",
    "    if not idx in idPubmed:\n",
    "        print('Strange')"
   ]
  },
  {
   "cell_type": "code",
   "execution_count": null,
   "id": "6f9fa805",
   "metadata": {},
   "outputs": [],
   "source": []
  },
  {
   "cell_type": "markdown",
   "id": "e400506e",
   "metadata": {},
   "source": [
    "## <span style='color:red'> Query 3 : </span> PMC : \n",
    "\n",
    "$\\rightarrow$ (nextflow[Abstract] OR snakemake[Abstract]) AND github[All Fields] "
   ]
  },
  {
   "cell_type": "code",
   "execution_count": null,
   "id": "7bba4c7f",
   "metadata": {},
   "outputs": [],
   "source": [
    "name3 = 'q3_' + date + \".xml\"\n",
    "if boolean:\n",
    "    res = open(name3,'w')\n",
    "    sys.stdout = res \n",
    "    extract_article = c.new_pipeline()\n",
    "    sid = extract_article.add_search({'db' : 'pmc',\n",
    "                              'term' : '(nextflow[Abstract] OR snakemake[Abstract]) AND github[All Fields]',\n",
    "                              'rettype' : 'uilist'})\n",
    "\n",
    "    fid = extract_article.add_fetch({'retmode' : 'xml','rettype' : 'abstract' }, dependency=sid)\n",
    "    pipeline = c.run(extract_article)\n",
    "\n",
    "    sys.stdout = normal\n",
    "    res.close()\n",
    "    time.sleep(3)"
   ]
  },
  {
   "cell_type": "markdown",
   "id": "f28ba8df",
   "metadata": {},
   "source": [
    "### Analyse"
   ]
  },
  {
   "cell_type": "code",
   "execution_count": null,
   "id": "5fb8c154",
   "metadata": {},
   "outputs": [],
   "source": [
    "file3 = et.parse(name3)\n",
    "pubmedXml = file3.getroot()\n",
    "articles = list(pubmedXml)"
   ]
  },
  {
   "cell_type": "code",
   "execution_count": null,
   "id": "b2b11d33",
   "metadata": {},
   "outputs": [],
   "source": [
    "print(\"Number of results with the third request : {}\".format(len(articles)))"
   ]
  },
  {
   "cell_type": "markdown",
   "id": "1aab548d",
   "metadata": {},
   "source": [
    "Extraction of Pubmed IDs from the various PMC IDs:"
   ]
  },
  {
   "cell_type": "code",
   "execution_count": null,
   "id": "ea6a814f",
   "metadata": {
    "scrolled": false
   },
   "outputs": [],
   "source": [
    "linkId = {}\n",
    "noOk = 0\n",
    "for article in articles :\n",
    "    if article.tag == 'Reply':\n",
    "        print(\"Can't acces to this article : \",article.attrib)\n",
    "        noOk +=1\n",
    "    else:\n",
    "        articleMeta = article.find(\"front/article-meta\")\n",
    "        ids = articleMeta.findall(\"article-id\")\n",
    "        temp = {}\n",
    "        for idx in ids:\n",
    "            temp[idx.attrib['pub-id-type']] = idx.text\n",
    "            #print(idx.attrib, idx.text)\n",
    "        try:\n",
    "            pmc = 'PMC' + temp['pmc']\n",
    "            linkId.update({pmc : temp['pmid']})\n",
    "        except:\n",
    "            print('This article have a problem PMC Id : {} -> no pmid'.format(temp['pmc']))\n",
    "            noOk +=1"
   ]
  },
  {
   "cell_type": "markdown",
   "id": "4e7229aa",
   "metadata": {},
   "source": [
    "We check whether the ids found in query 3 are included in query 1:"
   ]
  },
  {
   "cell_type": "code",
   "execution_count": null,
   "id": "d89be317",
   "metadata": {},
   "outputs": [],
   "source": [
    "nb = 0\n",
    "for idx in linkId:\n",
    "    pmid = linkId[idx]\n",
    "    if not pmid in idPubmed:\n",
    "        print(idx, linkId[idx])\n",
    "        nb +=1\n",
    "tot = len(articles)-noOk\n",
    "print(\"\\n{} out of {} from PMC is not in my results for query 1 on PUBMED\".format(nb,tot))"
   ]
  },
  {
   "cell_type": "markdown",
   "id": "13861d97",
   "metadata": {},
   "source": [
    "We check whether the ids found in query 3 are included in query 2:"
   ]
  },
  {
   "cell_type": "code",
   "execution_count": null,
   "id": "f8da9684",
   "metadata": {},
   "outputs": [],
   "source": [
    "nb = 0\n",
    "for idx in linkId:\n",
    "    pmid = linkId[idx]\n",
    "    if not pmid in idPubmed2:\n",
    "        #print(idx, linkId[idx])\n",
    "        nb +=1\n",
    "tot = len(articles)-noOk\n",
    "print(\"\\n{} out of {} from PMC is not in my results for query 2 on PUBMED\".format(nb,tot))"
   ]
  }
 ],
 "metadata": {
  "kernelspec": {
   "display_name": "Python 3 (ipykernel)",
   "language": "python",
   "name": "python3"
  },
  "language_info": {
   "codemirror_mode": {
    "name": "ipython",
    "version": 3
   },
   "file_extension": ".py",
   "mimetype": "text/x-python",
   "name": "python",
   "nbconvert_exporter": "python",
   "pygments_lexer": "ipython3",
   "version": "3.9.12"
  },
  "vscode": {
   "interpreter": {
    "hash": "31f2aee4e71d21fbe5cf8b01ff0e069b9275f58929596ceb00d14d90e3e16cd6"
   }
  }
 },
 "nbformat": 4,
 "nbformat_minor": 5
}
